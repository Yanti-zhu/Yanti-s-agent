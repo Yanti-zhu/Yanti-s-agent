{
 "cells": [
  {
   "cell_type": "code",
   "execution_count": 0,
   "metadata": {
    "application/vnd.databricks.v1+cell": {
     "cellMetadata": {},
     "inputWidgets": {},
     "nuid": "292421e0-127b-477a-8c04-8af192c490c8",
     "showTitle": false,
     "tableResultSettingsMap": {},
     "title": ""
    }
   },
   "outputs": [],
   "source": [
    "%sql\n",
    "-- Top Product by Year\n",
    "CREATE OR REPLACE FUNCTION workspace.gold.fn_top_product_by_year(\n",
    "    year INT\n",
    ")\n",
    "RETURNS TABLE (\n",
    "    product_name STRING,\n",
    "    total_quantity INT,\n",
    "    total_revenue DOUBLE\n",
    ")\n",
    "RETURN\n",
    "    SELECT \n",
    "        dp.product_name,\n",
    "        SUM(fs.quantity) AS total_quantity,\n",
    "        SUM(fs.sales_amount) AS total_revenue\n",
    "    FROM workspace.gold.fact_sales fs\n",
    "    JOIN workspace.gold.dim_products dp\n",
    "        ON fs.product_key = dp.product_key\n",
    "    WHERE YEAR(fs.order_date) = year\n",
    "    GROUP BY dp.product_name\n",
    "    ORDER BY total_quantity DESC\n",
    "    LIMIT 1;\n",
    "\n",
    "-- Top Month by Revenue\n",
    "CREATE OR REPLACE FUNCTION workspace.gold.fn_top_month_by_revenue(\n",
    "    year INT\n",
    ")\n",
    "RETURNS TABLE (\n",
    "    month DATE,\n",
    "    revenue DOUBLE\n",
    ")\n",
    "RETURN\n",
    "    SELECT \n",
    "        date_trunc('month', fs.order_date) AS month,\n",
    "        SUM(fs.sales_amount) AS revenue\n",
    "    FROM workspace.gold.fact_sales fs\n",
    "    WHERE YEAR(fs.order_date) = year\n",
    "    GROUP BY month\n",
    "    ORDER BY revenue DESC\n",
    "    LIMIT 1;\n",
    "\n",
    "-- Top customer by Revenue in a Year\n",
    "CREATE OR REPLACE FUNCTION workspace.gold.fn_top_customer_by_year(\n",
    "    year INT\n",
    ")\n",
    "RETURNS TABLE (\n",
    "    customer_name STRING,\n",
    "    total_revenue DOUBLE\n",
    ")\n",
    "RETURN\n",
    "    SELECT \n",
    "        CONCAT(dc.first_name, ' ', dc.last_name) AS customer_name,\n",
    "        SUM(fs.sales_amount) AS total_revenue\n",
    "    FROM workspace.gold.fact_sales fs\n",
    "    JOIN workspace.gold.dim_customers dc\n",
    "        ON fs.customer_key = dc.customer_key\n",
    "    WHERE YEAR(fs.order_date) = year\n",
    "    GROUP BY dc.first_name, dc.last_name\n",
    "    ORDER BY total_revenue DESC\n",
    "    LIMIT 1;"
   ]
  }
 ],
 "metadata": {
  "application/vnd.databricks.v1+notebook": {
   "computePreferences": null,
   "dashboards": [],
   "environmentMetadata": {
    "base_environment": "",
    "environment_version": "3"
   },
   "inputWidgetPreferences": null,
   "language": "python",
   "notebookMetadata": {
    "pythonIndentUnit": 4
   },
   "notebookName": "Top N script",
   "widgets": {}
  },
  "language_info": {
   "name": "python"
  }
 },
 "nbformat": 4,
 "nbformat_minor": 0
}
